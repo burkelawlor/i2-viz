{
 "cells": [
  {
   "cell_type": "code",
   "execution_count": 3,
   "metadata": {},
   "outputs": [],
   "source": [
    "import os\n",
    "os.chdir('/Users/burkelawlor/Repos/i2-viz')\n",
    "\n",
    "import pandas as pd\n",
    "import numpy as np\n",
    "from glob import glob\n",
    "\n",
    "import nibabel as nib\n",
    "from nilearn import image, plotting, masking"
   ]
  },
  {
   "cell_type": "markdown",
   "metadata": {},
   "source": [
    "# Schaefer 100 Parcels "
   ]
  },
  {
   "cell_type": "code",
   "execution_count": 10,
   "metadata": {},
   "outputs": [
    {
     "data": {
      "text/html": [
       "<div>\n",
       "<style scoped>\n",
       "    .dataframe tbody tr th:only-of-type {\n",
       "        vertical-align: middle;\n",
       "    }\n",
       "\n",
       "    .dataframe tbody tr th {\n",
       "        vertical-align: top;\n",
       "    }\n",
       "\n",
       "    .dataframe thead th {\n",
       "        text-align: right;\n",
       "    }\n",
       "</style>\n",
       "<table border=\"1\" class=\"dataframe\">\n",
       "  <thead>\n",
       "    <tr style=\"text-align: right;\">\n",
       "      <th></th>\n",
       "      <th>label</th>\n",
       "      <th>full_name</th>\n",
       "      <th>network</th>\n",
       "      <th>x</th>\n",
       "      <th>y</th>\n",
       "      <th>z</th>\n",
       "      <th>t</th>\n",
       "    </tr>\n",
       "  </thead>\n",
       "  <tbody>\n",
       "    <tr>\n",
       "      <th>0</th>\n",
       "      <td>1</td>\n",
       "      <td>7Networks_LH_Vis_1</td>\n",
       "      <td>Vis</td>\n",
       "      <td>120</td>\n",
       "      <td>18</td>\n",
       "      <td>131</td>\n",
       "      <td>0</td>\n",
       "    </tr>\n",
       "    <tr>\n",
       "      <th>1</th>\n",
       "      <td>2</td>\n",
       "      <td>7Networks_LH_Vis_2</td>\n",
       "      <td>Vis</td>\n",
       "      <td>120</td>\n",
       "      <td>18</td>\n",
       "      <td>132</td>\n",
       "      <td>0</td>\n",
       "    </tr>\n",
       "    <tr>\n",
       "      <th>2</th>\n",
       "      <td>3</td>\n",
       "      <td>7Networks_LH_Vis_3</td>\n",
       "      <td>Vis</td>\n",
       "      <td>120</td>\n",
       "      <td>18</td>\n",
       "      <td>133</td>\n",
       "      <td>0</td>\n",
       "    </tr>\n",
       "    <tr>\n",
       "      <th>3</th>\n",
       "      <td>4</td>\n",
       "      <td>7Networks_LH_Vis_4</td>\n",
       "      <td>Vis</td>\n",
       "      <td>120</td>\n",
       "      <td>18</td>\n",
       "      <td>135</td>\n",
       "      <td>0</td>\n",
       "    </tr>\n",
       "    <tr>\n",
       "      <th>4</th>\n",
       "      <td>5</td>\n",
       "      <td>7Networks_LH_Vis_5</td>\n",
       "      <td>Vis</td>\n",
       "      <td>120</td>\n",
       "      <td>18</td>\n",
       "      <td>136</td>\n",
       "      <td>0</td>\n",
       "    </tr>\n",
       "    <tr>\n",
       "      <th>...</th>\n",
       "      <td>...</td>\n",
       "      <td>...</td>\n",
       "      <td>...</td>\n",
       "      <td>...</td>\n",
       "      <td>...</td>\n",
       "      <td>...</td>\n",
       "      <td>...</td>\n",
       "    </tr>\n",
       "    <tr>\n",
       "      <th>95</th>\n",
       "      <td>96</td>\n",
       "      <td>7Networks_RH_Default_PFCm_1</td>\n",
       "      <td>Default</td>\n",
       "      <td>208</td>\n",
       "      <td>62</td>\n",
       "      <td>79</td>\n",
       "      <td>0</td>\n",
       "    </tr>\n",
       "    <tr>\n",
       "      <th>96</th>\n",
       "      <td>97</td>\n",
       "      <td>7Networks_RH_Default_PFCm_2</td>\n",
       "      <td>Default</td>\n",
       "      <td>208</td>\n",
       "      <td>62</td>\n",
       "      <td>80</td>\n",
       "      <td>0</td>\n",
       "    </tr>\n",
       "    <tr>\n",
       "      <th>97</th>\n",
       "      <td>98</td>\n",
       "      <td>7Networks_RH_Default_PFCm_3</td>\n",
       "      <td>Default</td>\n",
       "      <td>208</td>\n",
       "      <td>62</td>\n",
       "      <td>81</td>\n",
       "      <td>0</td>\n",
       "    </tr>\n",
       "    <tr>\n",
       "      <th>98</th>\n",
       "      <td>99</td>\n",
       "      <td>7Networks_RH_Default_PCC_1</td>\n",
       "      <td>Default</td>\n",
       "      <td>208</td>\n",
       "      <td>62</td>\n",
       "      <td>78</td>\n",
       "      <td>0</td>\n",
       "    </tr>\n",
       "    <tr>\n",
       "      <th>99</th>\n",
       "      <td>100</td>\n",
       "      <td>7Networks_RH_Default_PCC_2</td>\n",
       "      <td>Default</td>\n",
       "      <td>208</td>\n",
       "      <td>62</td>\n",
       "      <td>82</td>\n",
       "      <td>0</td>\n",
       "    </tr>\n",
       "  </tbody>\n",
       "</table>\n",
       "<p>100 rows × 7 columns</p>\n",
       "</div>"
      ],
      "text/plain": [
       "    label                    full_name  network    x   y    z  t\n",
       "0       1           7Networks_LH_Vis_1      Vis  120  18  131  0\n",
       "1       2           7Networks_LH_Vis_2      Vis  120  18  132  0\n",
       "2       3           7Networks_LH_Vis_3      Vis  120  18  133  0\n",
       "3       4           7Networks_LH_Vis_4      Vis  120  18  135  0\n",
       "4       5           7Networks_LH_Vis_5      Vis  120  18  136  0\n",
       "..    ...                          ...      ...  ...  ..  ... ..\n",
       "95     96  7Networks_RH_Default_PFCm_1  Default  208  62   79  0\n",
       "96     97  7Networks_RH_Default_PFCm_2  Default  208  62   80  0\n",
       "97     98  7Networks_RH_Default_PFCm_3  Default  208  62   81  0\n",
       "98     99   7Networks_RH_Default_PCC_1  Default  208  62   78  0\n",
       "99    100   7Networks_RH_Default_PCC_2  Default  208  62   82  0\n",
       "\n",
       "[100 rows x 7 columns]"
      ]
     },
     "metadata": {},
     "output_type": "display_data"
    }
   ],
   "source": [
    "networks_df = pd.read_csv('data/Schaefer2018_100Parcels_7Networks_order.txt', sep='\\t', names=['label', 'full_name', 'x', 'y', 'z', 't'])\n",
    "\n",
    "full_names = networks_df.full_name.str.split('_')\n",
    "networks_df.insert(2, 'network',  full_names.str[2:-1].str[0])\n",
    "# networks_df.insert(3, 'LR', full_names.str[1])\n",
    "# networks_df.insert(4, 'number',  full_names.str[-1])\n",
    "\n",
    "display(networks_df)\n",
    "networks_df.to_csv('data/Schaefer2018_100Parcels_7Networks_order.csv', index=False)"
   ]
  },
  {
   "cell_type": "markdown",
   "metadata": {},
   "source": [
    "# Background image"
   ]
  },
  {
   "cell_type": "code",
   "execution_count": 33,
   "metadata": {},
   "outputs": [
    {
     "name": "stdout",
     "output_type": "stream",
     "text": [
      "[(97, 115, 97), (97, 115, 97), (97, 115, 97)]\n"
     ]
    }
   ],
   "source": [
    "files = glob('data/signal_intensity/*_parcellated.nii.gz')\n",
    "print([nib.load(x).shape[:3] for x in files]) # (97, 115, 97)"
   ]
  },
  {
   "cell_type": "code",
   "execution_count": null,
   "metadata": {},
   "outputs": [
    {
     "name": "stdout",
     "output_type": "stream",
     "text": [
      "(181, 217, 181)\n",
      "(97, 115, 97)\n"
     ]
    }
   ],
   "source": [
    "img_raw = nib.load('data/ch2bet.nii')\n",
    "print(img_raw.shape)\n",
    "\n",
    "parcel_img = nib.load('data/Schaefer2018_100Parcels_7Networks_order_FSLMNI152_2mm.nii')\n",
    "\n",
    "img_resampled = image.resample_img(img_raw, target_affine=parcel_img.affine, target_shape=(97,115,97))\n",
    "print(img_resampled.shape)"
   ]
  },
  {
   "cell_type": "code",
   "execution_count": 35,
   "metadata": {},
   "outputs": [],
   "source": [
    "nib.save(img_resampled, 'data/ch2bet_resampled.nii')"
   ]
  }
 ],
 "metadata": {
  "kernelspec": {
   "display_name": "env",
   "language": "python",
   "name": "python3"
  },
  "language_info": {
   "codemirror_mode": {
    "name": "ipython",
    "version": 3
   },
   "file_extension": ".py",
   "mimetype": "text/x-python",
   "name": "python",
   "nbconvert_exporter": "python",
   "pygments_lexer": "ipython3",
   "version": "3.12.2"
  }
 },
 "nbformat": 4,
 "nbformat_minor": 2
}
